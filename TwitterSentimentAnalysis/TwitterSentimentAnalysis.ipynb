{
 "cells": [
  {
   "cell_type": "code",
   "execution_count": 90,
   "metadata": {},
   "outputs": [],
   "source": [
    "from textblob import TextBlob as tb\n",
    "import tweepy\n",
    "import numpy as np\n",
    "import configparser"
   ]
  },
  {
   "cell_type": "code",
   "execution_count": 102,
   "metadata": {},
   "outputs": [],
   "source": [
    "config = configparser.ConfigParser()\n",
    "config.read('ttcredentials')\n",
    "\n",
    "consumer_key = config.get('pu_sentimentanalysis', 'consumer_key')\n",
    "consumer_secret = config.get('pu_sentimentanalysis', 'consumer_secret')\n",
    "access_token = config.get('pu_sentimentanalysis', 'access_token')\n",
    "access_token_secret = config.get('pu_sentimentanalysis', 'access_token_secret')"
   ]
  },
  {
   "cell_type": "code",
   "execution_count": 103,
   "metadata": {},
   "outputs": [],
   "source": [
    "auth = tweepy.OAuthHandler(consumer_key, consumer_secret)\n",
    "auth.set_access_token(access_token, access_token_secret)\n",
    "api = tweepy.API(auth)"
   ]
  },
  {
   "cell_type": "code",
   "execution_count": 104,
   "metadata": {},
   "outputs": [],
   "source": [
    "public_tweets = api.search('Bolsonaro')"
   ]
  },
  {
   "cell_type": "code",
   "execution_count": 105,
   "metadata": {},
   "outputs": [],
   "source": [
    "# Variável que irá armazenar as polaridades\n",
    "analysis = None"
   ]
  },
  {
   "cell_type": "code",
   "execution_count": 106,
   "metadata": {},
   "outputs": [
    {
     "name": "stdout",
     "output_type": "stream",
     "text": [
      "RT @GeorgMarques: Bolsonaro falou claramente: “Ô imbecil, tu acha que o da Suécia vai querer vir para esse LIXO AQUI?”. Esse lixo, citado p…\n",
      "-0.049999999999999996\n",
      "RT @HugoAg0g0: Preocupados com a imagem, integrantes do centrão negam o ingresso de Bolsonaro. Foi sugerido que ele tente o teste seletivo…\n",
      "-0.1\n",
      "RT @SargentoFAHUR: O Presidente ressaltou as dificuldades do cargo, pois se atender o povo, vetando o Projeto, cria animosidade com o Congr…\n",
      "0.0\n",
      "RT @o_protagonista3: Aí a esquerda e a extrema imprensa vem chamar o Bolsonaro de burro e idiota: onde eles viviam quando essa Anta governa…\n",
      "-0.32499999999999996\n",
      "More fires burning across central Africa than Amazon as global deforestation rates approach record high https://t.co/eWDW06m6Kh\n",
      "0.165\n",
      "Bolsonaro assina decreto que incentiva servidor ao trabalho voluntário.\n",
      "\n",
      "Saiba mais: https://t.co/VV5IxhL01W… https://t.co/QMxHgjvaHy\n",
      "0.5\n",
      "RT @gebrim17: Votei em Bolsonaro e vou votar novamente... A saída é pela direita. O Brasil vai expurgar o que atrasa o país!\n",
      "\n",
      "VOCÊ VOTOU?…\n",
      "0.3571428571428571\n",
      "RT @Glauber_Braga: Em vídeo, que está circulando com força nas redes, Bolsonaro chamou Brasil de lixo e disse que Amazônia não é mais nossa…\n",
      "0.4333333333333333\n",
      "RT @madeleinelacsko: Até ontem Bolsonaro gravava vídeo defendendo que a Amazônia fosse administrada por outro país.\n",
      "\n",
      "Agora que se lacskou v…\n",
      "0.0\n",
      "RT @delucca: A Finlândia foi buscar acordo direto com a Paraíba.\n",
      "\n",
      "A França foi buscar diálogo direto com o Amapá.\n",
      "\n",
      "Na falta de um president…\n",
      "0.0625\n",
      "RT @felipeneto: Podem criticar o Bolsonaro por muita coisa, menos dizer q ele não cumpre suas promessas de campanha.\n",
      "\n",
      "Ele falou q não tinha…\n",
      "0.0\n",
      "RT @felipeneto: Podem criticar o Bolsonaro por muita coisa, menos dizer q ele não cumpre suas promessas de campanha.\n",
      "\n",
      "Ele falou q não tinha…\n",
      "0.0\n",
      "RT @Lararodrigues1_: Fiz um Lomotif do bolsonaro abandonando as entrevistas por falta de argumentos ao som de Pabllo Vittar https://t.co/Bn…\n",
      "0.4\n",
      "RT @GDimenstein: Por que será que Bolsonaro, que fala tanto em Caixa Preta, não fala da Caixa Preta que protege no Rio?\n",
      "https://t.co/kYHpOe…\n",
      "-0.04444444444444443\n",
      "RT @marasinapellid1: @IgnacioValle3 @manuenelexilio Bolsonaro en Brasil hizo un autoatentado\n",
      " Éste está armando un autogolpe?? No hay que p…\n",
      "0.0\n"
     ]
    }
   ],
   "source": [
    "tweets = [] # Lista vazia para armazenar scores\n",
    "for tweet in public_tweets:\n",
    "    print(tweet.text)\n",
    "    analysis = tb(tweet.text)\n",
    "\n",
    "    try:\n",
    "        tt = analysis.translate(from_lang='pt-br', to='en')\n",
    "    except:\n",
    "        tt = analysis\n",
    "            \n",
    "    polarity = tt.sentiment.polarity\n",
    "    tweets.append(polarity)\n",
    "    print(polarity)"
   ]
  },
  {
   "cell_type": "code",
   "execution_count": 107,
   "metadata": {},
   "outputs": [
    {
     "name": "stdout",
     "output_type": "stream",
     "text": [
      "MÉDIA DE SENTIMENTO: 0.09323544973544971\n"
     ]
    }
   ],
   "source": [
    "print('MÉDIA DE SENTIMENTO: ' + str(np.mean(tweets)))"
   ]
  },
  {
   "cell_type": "markdown",
   "metadata": {},
   "source": [
    "# Test using TextBlob Translation Function + Scores"
   ]
  },
  {
   "cell_type": "code",
   "execution_count": 77,
   "metadata": {},
   "outputs": [
    {
     "name": "stdout",
     "output_type": "stream",
     "text": [
      "I love to have lunch\n",
      "Sentiment(polarity=0.5, subjectivity=0.6)\n"
     ]
    }
   ],
   "source": [
    "text1 = tb('Eu amo almoçar')\n",
    "text1 = text1.translate(from_lang='pt-br', to='en')\n",
    "print(text1)\n",
    "print(text1.sentiment)"
   ]
  },
  {
   "cell_type": "code",
   "execution_count": 78,
   "metadata": {},
   "outputs": [
    {
     "name": "stdout",
     "output_type": "stream",
     "text": [
      "I hate to have lunch\n",
      "Sentiment(polarity=-0.8, subjectivity=0.9)\n"
     ]
    }
   ],
   "source": [
    "text2 = tb('Eu odeio almoçar')\n",
    "text2 = text2.translate(from_lang='pt-br', to='en')\n",
    "print(text2)\n",
    "print(text2.sentiment)"
   ]
  }
 ],
 "metadata": {
  "kernelspec": {
   "display_name": "Python 3",
   "language": "python",
   "name": "python3"
  },
  "language_info": {
   "codemirror_mode": {
    "name": "ipython",
    "version": 3
   },
   "file_extension": ".py",
   "mimetype": "text/x-python",
   "name": "python",
   "nbconvert_exporter": "python",
   "pygments_lexer": "ipython3",
   "version": "3.7.3"
  }
 },
 "nbformat": 4,
 "nbformat_minor": 2
}
