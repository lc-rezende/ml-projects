{
 "cells": [
  {
   "cell_type": "markdown",
   "metadata": {},
   "source": [
    "## Factorization Machines in Python\n",
    "---\n",
    "https://www.csie.ntu.edu.tw/~b97053/paper/Rendle2010FM.pdf"
   ]
  },
  {
   "cell_type": "code",
   "execution_count": 3,
   "metadata": {
    "collapsed": true
   },
   "outputs": [],
   "source": [
    "from pyfm import pylibfm\n",
    "import numpy as np\n",
    "from sklearn.feature_extraction import DictVectorizer"
   ]
  },
  {
   "cell_type": "code",
   "execution_count": 5,
   "metadata": {
    "collapsed": true
   },
   "outputs": [],
   "source": [
    "train = [\n",
    "    {\"user\": \"1\", \"item\": \"5\", \"age\": 19},\n",
    "    {\"user\": \"2\", \"item\": \"43\", \"age\": 33},\n",
    "    {\"user\": \"3\", \"item\": \"20\", \"age\": 55},\n",
    "    {\"user\": \"4\", \"item\": \"10\", \"age\": 20},\n",
    "]"
   ]
  },
  {
   "cell_type": "code",
   "execution_count": 6,
   "metadata": {
    "collapsed": true
   },
   "outputs": [],
   "source": [
    "v = DictVectorizer()"
   ]
  },
  {
   "cell_type": "code",
   "execution_count": 7,
   "metadata": {
    "collapsed": true
   },
   "outputs": [],
   "source": [
    "X = v.fit_transform(train)"
   ]
  },
  {
   "cell_type": "code",
   "execution_count": 11,
   "metadata": {},
   "outputs": [
    {
     "data": {
      "text/plain": [
       "array([[ 19.,   0.,   0.,   0.,   1.,   1.,   0.,   0.,   0.],\n",
       "       [ 33.,   0.,   0.,   1.,   0.,   0.,   1.,   0.,   0.],\n",
       "       [ 55.,   0.,   1.,   0.,   0.,   0.,   0.,   1.,   0.],\n",
       "       [ 20.,   1.,   0.,   0.,   0.,   0.,   0.,   0.,   1.]])"
      ]
     },
     "execution_count": 11,
     "metadata": {},
     "output_type": "execute_result"
    }
   ],
   "source": [
    "X.toarray()"
   ]
  },
  {
   "cell_type": "code",
   "execution_count": 14,
   "metadata": {},
   "outputs": [
    {
     "data": {
      "text/plain": [
       "['age',\n",
       " 'item=10',\n",
       " 'item=20',\n",
       " 'item=43',\n",
       " 'item=5',\n",
       " 'user=1',\n",
       " 'user=2',\n",
       " 'user=3',\n",
       " 'user=4']"
      ]
     },
     "execution_count": 14,
     "metadata": {},
     "output_type": "execute_result"
    }
   ],
   "source": [
    "v.get_feature_names()"
   ]
  },
  {
   "cell_type": "code",
   "execution_count": 16,
   "metadata": {
    "collapsed": true
   },
   "outputs": [],
   "source": [
    "y = np.repeat(1.0,X.shape[0])"
   ]
  },
  {
   "cell_type": "code",
   "execution_count": 17,
   "metadata": {},
   "outputs": [
    {
     "name": "stdout",
     "output_type": "stream",
     "text": [
      "[ 1.  1.  1.  1.]\n"
     ]
    }
   ],
   "source": [
    "print(y)"
   ]
  },
  {
   "cell_type": "code",
   "execution_count": 30,
   "metadata": {
    "collapsed": true
   },
   "outputs": [],
   "source": [
    "fm = pylibfm.FM(num_iter=100, task='classification')"
   ]
  },
  {
   "cell_type": "code",
   "execution_count": 31,
   "metadata": {},
   "outputs": [
    {
     "name": "stdout",
     "output_type": "stream",
     "text": [
      "Creating validation dataset of 0.01 of training for adaptive regularization\n",
      "-- Epoch 1\n",
      "Training log loss: 0.37518\n",
      "-- Epoch 2\n",
      "Training log loss: 0.00898\n",
      "-- Epoch 3\n",
      "Training log loss: 0.00796\n",
      "-- Epoch 4\n",
      "Training log loss: 0.00715\n",
      "-- Epoch 5\n",
      "Training log loss: 0.00650\n",
      "-- Epoch 6\n",
      "Training log loss: 0.00595\n",
      "-- Epoch 7\n",
      "Training log loss: 0.00549\n",
      "-- Epoch 8\n",
      "Training log loss: 0.00510\n",
      "-- Epoch 9\n",
      "Training log loss: 0.00476\n",
      "-- Epoch 10\n",
      "Training log loss: 0.00446\n",
      "-- Epoch 11\n",
      "Training log loss: 0.00420\n",
      "-- Epoch 12\n",
      "Training log loss: 0.00397\n",
      "-- Epoch 13\n",
      "Training log loss: 0.00376\n",
      "-- Epoch 14\n",
      "Training log loss: 0.00357\n",
      "-- Epoch 15\n",
      "Training log loss: 0.00340\n",
      "-- Epoch 16\n",
      "Training log loss: 0.00325\n",
      "-- Epoch 17\n",
      "Training log loss: 0.00311\n",
      "-- Epoch 18\n",
      "Training log loss: 0.00298\n",
      "-- Epoch 19\n",
      "Training log loss: 0.00286\n",
      "-- Epoch 20\n",
      "Training log loss: 0.00275\n",
      "-- Epoch 21\n",
      "Training log loss: 0.00265\n",
      "-- Epoch 22\n",
      "Training log loss: 0.00255\n",
      "-- Epoch 23\n",
      "Training log loss: 0.00247\n",
      "-- Epoch 24\n",
      "Training log loss: 0.00238\n",
      "-- Epoch 25\n",
      "Training log loss: 0.00231\n",
      "-- Epoch 26\n",
      "Training log loss: 0.00224\n",
      "-- Epoch 27\n",
      "Training log loss: 0.00217\n",
      "-- Epoch 28\n",
      "Training log loss: 0.00211\n",
      "-- Epoch 29\n",
      "Training log loss: 0.00205\n",
      "-- Epoch 30\n",
      "Training log loss: 0.00199\n",
      "-- Epoch 31\n",
      "Training log loss: 0.00194\n",
      "-- Epoch 32\n",
      "Training log loss: 0.00189\n",
      "-- Epoch 33\n",
      "Training log loss: 0.00184\n",
      "-- Epoch 34\n",
      "Training log loss: 0.00179\n",
      "-- Epoch 35\n",
      "Training log loss: 0.00175\n",
      "-- Epoch 36\n",
      "Training log loss: 0.00171\n",
      "-- Epoch 37\n",
      "Training log loss: 0.00167\n",
      "-- Epoch 38\n",
      "Training log loss: 0.00163\n",
      "-- Epoch 39\n",
      "Training log loss: 0.00159\n",
      "-- Epoch 40\n",
      "Training log loss: 0.00156\n",
      "-- Epoch 41\n",
      "Training log loss: 0.00153\n",
      "-- Epoch 42\n",
      "Training log loss: 0.00149\n",
      "-- Epoch 43\n",
      "Training log loss: 0.00146\n",
      "-- Epoch 44\n",
      "Training log loss: 0.00144\n",
      "-- Epoch 45\n",
      "Training log loss: 0.00141\n",
      "-- Epoch 46\n",
      "Training log loss: 0.00138\n",
      "-- Epoch 47\n",
      "Training log loss: 0.00135\n",
      "-- Epoch 48\n",
      "Training log loss: 0.00133\n",
      "-- Epoch 49\n",
      "Training log loss: 0.00131\n",
      "-- Epoch 50\n",
      "Training log loss: 0.00128\n",
      "-- Epoch 51\n",
      "Training log loss: 0.00126\n",
      "-- Epoch 52\n",
      "Training log loss: 0.00124\n",
      "-- Epoch 53\n",
      "Training log loss: 0.00122\n",
      "-- Epoch 54\n",
      "Training log loss: 0.00120\n",
      "-- Epoch 55\n",
      "Training log loss: 0.00118\n",
      "-- Epoch 56\n",
      "Training log loss: 0.00116\n",
      "-- Epoch 57\n",
      "Training log loss: 0.00114\n",
      "-- Epoch 58\n",
      "Training log loss: 0.00112\n",
      "-- Epoch 59\n",
      "Training log loss: 0.00111\n",
      "-- Epoch 60\n",
      "Training log loss: 0.00109\n",
      "-- Epoch 61\n",
      "Training log loss: 0.00107\n",
      "-- Epoch 62\n",
      "Training log loss: 0.00106\n",
      "-- Epoch 63\n",
      "Training log loss: 0.00104\n",
      "-- Epoch 64\n",
      "Training log loss: 0.00103\n",
      "-- Epoch 65\n",
      "Training log loss: 0.00101\n",
      "-- Epoch 66\n",
      "Training log loss: 0.00100\n",
      "-- Epoch 67\n",
      "Training log loss: 0.00099\n",
      "-- Epoch 68\n",
      "Training log loss: 0.00097\n",
      "-- Epoch 69\n",
      "Training log loss: 0.00096\n",
      "-- Epoch 70\n",
      "Training log loss: 0.00095\n",
      "-- Epoch 71\n",
      "Training log loss: 0.00093\n",
      "-- Epoch 72\n",
      "Training log loss: 0.00092\n",
      "-- Epoch 73\n",
      "Training log loss: 0.00091\n",
      "-- Epoch 74\n",
      "Training log loss: 0.00090\n",
      "-- Epoch 75\n",
      "Training log loss: 0.00089\n",
      "-- Epoch 76\n",
      "Training log loss: 0.00088\n",
      "-- Epoch 77\n",
      "Training log loss: 0.00087\n",
      "-- Epoch 78\n",
      "Training log loss: 0.00086\n",
      "-- Epoch 79\n",
      "Training log loss: 0.00085\n",
      "-- Epoch 80\n",
      "Training log loss: 0.00084\n",
      "-- Epoch 81\n",
      "Training log loss: 0.00083\n",
      "-- Epoch 82\n",
      "Training log loss: 0.00082\n",
      "-- Epoch 83\n",
      "Training log loss: 0.00081\n",
      "-- Epoch 84\n",
      "Training log loss: 0.00080\n",
      "-- Epoch 85\n",
      "Training log loss: 0.00079\n",
      "-- Epoch 86\n",
      "Training log loss: 0.00078\n",
      "-- Epoch 87\n",
      "Training log loss: 0.00077\n",
      "-- Epoch 88\n",
      "Training log loss: 0.00077\n",
      "-- Epoch 89\n",
      "Training log loss: 0.00076\n",
      "-- Epoch 90\n",
      "Training log loss: 0.00075\n",
      "-- Epoch 91\n",
      "Training log loss: 0.00074\n",
      "-- Epoch 92\n",
      "Training log loss: 0.00074\n",
      "-- Epoch 93\n",
      "Training log loss: 0.00073\n",
      "-- Epoch 94\n",
      "Training log loss: 0.00072\n",
      "-- Epoch 95\n",
      "Training log loss: 0.00071\n",
      "-- Epoch 96\n",
      "Training log loss: 0.00071\n",
      "-- Epoch 97\n",
      "Training log loss: 0.00070\n",
      "-- Epoch 98\n",
      "Training log loss: 0.00069\n",
      "-- Epoch 99\n",
      "Training log loss: 0.00069\n",
      "-- Epoch 100\n",
      "Training log loss: 0.00068\n"
     ]
    }
   ],
   "source": [
    "fm.fit(X,y)"
   ]
  },
  {
   "cell_type": "code",
   "execution_count": 32,
   "metadata": {},
   "outputs": [
    {
     "data": {
      "text/plain": [
       "array([ 0.99992634])"
      ]
     },
     "execution_count": 32,
     "metadata": {},
     "output_type": "execute_result"
    }
   ],
   "source": [
    "fm.predict(v.transform({\"user\": \"1\", \"item\": \"10\", \"age\": 24}))"
   ]
  },
  {
   "cell_type": "code",
   "execution_count": 37,
   "metadata": {},
   "outputs": [
    {
     "name": "stdout",
     "output_type": "stream",
     "text": [
      "1.0\n"
     ]
    }
   ],
   "source": [
    "result = fm.predict(v.transform({\"user\": \"1\", \"item\": \"10\", \"age\": 24}))[0]\n",
    "print(round(result, 0))"
   ]
  },
  {
   "cell_type": "markdown",
   "metadata": {},
   "source": [
    "## Example using make_classification dataset from sklearn"
   ]
  },
  {
   "cell_type": "code",
   "execution_count": 48,
   "metadata": {
    "collapsed": true
   },
   "outputs": [],
   "source": [
    "from sklearn.datasets import make_classification"
   ]
  },
  {
   "cell_type": "code",
   "execution_count": 49,
   "metadata": {
    "collapsed": true
   },
   "outputs": [],
   "source": [
    "X, y = make_classification(n_samples=1000,n_features=100, n_clusters_per_class=1)"
   ]
  },
  {
   "cell_type": "code",
   "execution_count": 55,
   "metadata": {
    "collapsed": true
   },
   "outputs": [],
   "source": [
    "data = [ {v: k for k, v in dict(zip(i, range(len(i)))).items()} for i in X ]"
   ]
  },
  {
   "cell_type": "code",
   "execution_count": 61,
   "metadata": {
    "collapsed": true
   },
   "outputs": [],
   "source": [
    "X_train, X_test, y_train, y_test = train_test_split(data, y, test_size=0.1, random_state=42)"
   ]
  },
  {
   "cell_type": "code",
   "execution_count": 62,
   "metadata": {
    "collapsed": true
   },
   "outputs": [],
   "source": [
    "v = DictVectorizer()\n",
    "X_train = v.fit_transform(X_train)\n",
    "X_test = v.transform(X_test)"
   ]
  },
  {
   "cell_type": "code",
   "execution_count": 63,
   "metadata": {
    "collapsed": true
   },
   "outputs": [],
   "source": [
    "fm = pylibfm.FM(num_factors=50, num_iter=10, verbose=True, task=\"classification\", initial_learning_rate=0.0001, learning_rate_schedule=\"optimal\")"
   ]
  },
  {
   "cell_type": "code",
   "execution_count": 64,
   "metadata": {},
   "outputs": [
    {
     "name": "stdout",
     "output_type": "stream",
     "text": [
      "Creating validation dataset of 0.01 of training for adaptive regularization\n",
      "-- Epoch 1\n",
      "Training log loss: 1.95837\n",
      "-- Epoch 2\n",
      "Training log loss: 1.64273\n",
      "-- Epoch 3\n",
      "Training log loss: 1.38121\n",
      "-- Epoch 4\n",
      "Training log loss: 1.16588\n",
      "-- Epoch 5\n",
      "Training log loss: 0.98915\n",
      "-- Epoch 6\n",
      "Training log loss: 0.84433\n",
      "-- Epoch 7\n",
      "Training log loss: 0.72480\n",
      "-- Epoch 8\n",
      "Training log loss: 0.62565\n",
      "-- Epoch 9\n",
      "Training log loss: 0.54304\n",
      "-- Epoch 10\n",
      "Training log loss: 0.47396\n"
     ]
    }
   ],
   "source": [
    "fm.fit(X_train,y_train)"
   ]
  }
 ],
 "metadata": {
  "kernelspec": {
   "display_name": "Python 3",
   "language": "python",
   "name": "python3"
  },
  "language_info": {
   "codemirror_mode": {
    "name": "ipython",
    "version": 3
   },
   "file_extension": ".py",
   "mimetype": "text/x-python",
   "name": "python",
   "nbconvert_exporter": "python",
   "pygments_lexer": "ipython3",
   "version": "3.6.3"
  }
 },
 "nbformat": 4,
 "nbformat_minor": 2
}
